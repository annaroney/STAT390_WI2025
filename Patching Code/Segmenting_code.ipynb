{
 "cells": [
  {
   "cell_type": "code",
   "execution_count": null,
   "metadata": {},
   "outputs": [],
   "source": [
    "\n",
    "import fiona\n",
    "import rasterio\n",
    "import rasterio.mask\n",
    "import matplotlib.pyplot as plt\n",
    "\n",
    "with fiona.open(\"cell_geo_small.geojson\", \"r\") as geojson:\n",
    "   features = [feature[\"geometry\"] for feature in geojson]\n",
    "\n",
    "fig, axs = plt.subplots(4, 4, figsize=(15, 15))\n",
    "axs=axs.flatten()\n",
    "\n",
    "with rasterio.open(\"h2114153  h&e_ROI_1 Epithelia.png\") as src:\n",
    "    for i,feature in enumerate(features):\n",
    "            out_image,_=rasterio.mask.mask(src,[feature],crop=True)\n",
    "            axs[i].imshow(out_image.transpose((1,2,0)))"
   ]
  }
 ],
 "metadata": {
  "language_info": {
   "name": "python"
  }
 },
 "nbformat": 4,
 "nbformat_minor": 2
}
